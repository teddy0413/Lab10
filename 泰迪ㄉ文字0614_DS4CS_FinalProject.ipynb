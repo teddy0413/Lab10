{
  "nbformat": 4,
  "nbformat_minor": 0,
  "metadata": {
    "colab": {
      "provenance": [],
      "gpuType": "T4",
      "include_colab_link": true
    },
    "kernelspec": {
      "name": "python3",
      "display_name": "Python 3"
    },
    "language_info": {
      "name": "python"
    },
    "accelerator": "GPU"
  },
  "cells": [
    {
      "cell_type": "markdown",
      "metadata": {
        "id": "view-in-github",
        "colab_type": "text"
      },
      "source": [
        "<a href=\"https://colab.research.google.com/github/teddy0413/Lab10/blob/main/%E6%B3%B0%E8%BF%AA%E3%84%89%E6%96%87%E5%AD%970614_DS4CS_FinalProject.ipynb\" target=\"_parent\"><img src=\"https://colab.research.google.com/assets/colab-badge.svg\" alt=\"Open In Colab\"/></a>"
      ]
    },
    {
      "cell_type": "markdown",
      "source": [
        "\n",
        "\n",
        "# **Member**\n",
        "*   林家誠, 109306066, MIS\n",
        "*   陳彥竹, 1093060xx, MIS\n",
        "\n"
      ],
      "metadata": {
        "id": "xADABvyDhjn7"
      }
    },
    {
      "cell_type": "markdown",
      "source": [
        "# **Title**\n",
        "惡意連結的偵測分析"
      ],
      "metadata": {
        "id": "fhxwsgVGfboW"
      }
    },
    {
      "cell_type": "markdown",
      "source": [
        "# **Problem Definition**\n",
        "惡意連結時常出現在釣魚信件、惡意網站內，隨著科技的發展，惡意連結的樣貌也越來越難以辨認，且對於高齡化的社會，長被未必有如同青年人一樣的資訊敏感度，如何提早偵測出惡意連結，並在瀏覽器內就先幫助用戶擋掉，是一件值得研究的問題。因此，此次期末報告我們聚焦於利用機器學習、深度學習模型，製作出能夠分類出良好、網頁竄改、釣魚網頁與惡意軟體。"
      ],
      "metadata": {
        "id": "MByo-4_bfboY"
      }
    },
    {
      "cell_type": "markdown",
      "source": [
        "# **Dataset**\n",
        "**Dataset**\n",
        "我們的原始資料來自Kaggle，包含兩個欄位，[URL, Type]\n"
      ],
      "metadata": {
        "id": "zEYv9UeyaQeM"
      }
    },
    {
      "cell_type": "markdown",
      "source": [
        "\n",
        "# **description of your models**\n",
        "**models**\n",
        "**介紹**\n",
        "\n",
        "【Data preprocessing】\n",
        "\n",
        "最初在 Data EDA時，我們發現資料有Imbalanced的現象，Beningn的Data比其他類別多很多，為了確保每一個Batch放入的資料都有每個類別的資料，因此我們用UnderSampler設定每個樣本都擁有各類別32520個資料，總共130080筆資料。\n",
        "\n",
        "\n",
        "【Feature Engineering】\n",
        "\n",
        "我們用特徵工程的方法將資料的欄位增加，包含:\n",
        "\n",
        "*   「連結長度」\n",
        "*   「連結內是否有@、%、?、=」\n",
        "*   「是否維HTTPS」，而我們將這類型的特徵稱為【Feature】\n",
        "\n",
        "\n",
        "\n",
        "\n",
        "【Tokenizer + Embedder】\n",
        "\n",
        "我們先將URL裡面的文字部分去除特殊字元，並將他們以\".\"坐分割，隨後將分好的tokenr獲得單詞之token ID，將token集合放入bert 模型生成1維768長度的值。我們將Embedder完產生的WordVector稱為【Wordvector】。\n",
        "\n",
        "\n",
        "【AutoEncoder做降維】\n",
        "\n",
        "因為經過Bert編碼後，768維的資料非常龐大，因此我們把資料放入AutoEncoder做降維，將Encodder Dimension設成200。\n",
        "\n",
        "【實驗設計：資料的樣子】\n",
        "此次實驗將資料分成三種：Feature Array, WordVector Array, Merged Array\n",
        "\n"
      ],
      "metadata": {
        "id": "ip573SbSaQeM"
      }
    },
    {
      "cell_type": "markdown",
      "source": [
        "\n",
        "# **result**\n",
        "\n",
        "【Machine Learning】\n",
        "\n",
        "在訓練模型的時候，我們放入了三種我們特徵工程完的資料，分別為\n",
        "1. Feature資料\n",
        "2. WordVector資料(已轉成向量文字資料)\n",
        "3. Merged 資料(Feature + WordVector)\n",
        "\n",
        "在挑選模型上，我們使用了以下三種模型做實驗\n",
        "1. Decision Tree\n",
        "2. Random Forest\n",
        "3. XGBClassifier\n",
        "\n",
        "實驗方式：將三種資料分別搭配上述三種模型看成效\n",
        "\n",
        "實驗結果：發現Merged資料　+　XGBClissifier效果最好。\n",
        "\n",
        "\n",
        "觀察：在看Decision Tree/Random Forest模型的表現時，可發現他們都不適合放入文字轉向量的資料，表現都很差，準確率落在65之間，不如它單單放Feature資料時準確率達到80以上。\n",
        "而XGBClassifier雖然也在純Feature資料時表現得比純放WordVector還好，但它在Merged資料時達到1+1>2的精神，放入Merged的Accuracy為87>Feature的Accuracy84。\n",
        "我們發現XGBClassifier比Decision Tree/Random Forest更適合處理非結構化數據(如文字)，因為XGBClassifier是採用Gradient Boosting Machine的原理，組合了多個樹(弱分類器)來購建一個大的分類器，而每下一棵樹都是修正前一棵樹的錯誤，因此樹根樹之間有關聯，因此減少了誤差與變異樹，更好地捕捉文本樹據中的關鍵信息。\n"
      ],
      "metadata": {
        "id": "amAL5I6TaQeN"
      }
    },
    {
      "cell_type": "markdown",
      "source": [
        "【NN Model】\n",
        "\n",
        "訓練過程：\n",
        "我們使用EarlyStopping避免Overditting，設定的Stopping標準為＂Validation loss 如果連續五個epoch沒有下降＂就停止訓練。\n",
        "\n",
        "除了與機器學習一樣，將三種資料分別加入我們的NNmodel 外，我們還額外做了一個新實驗：先訓練完Word Vector的模型，生成出訓練集每個url的4種類別機率，將其與Feature Array進行合成，並且再次訓練。反過來也做一遍。\n",
        "做此實驗的目的是希望是不是將第一組資料訓練完的結果當作第二組訓練時提示，可以有效提高Accuracy。\n",
        "\n",
        "結果：\n",
        "\n",
        "從下方圖表可看出，沒有做特別訓練的模型Loss比較大，且Feature 和 WordVector資料的Accuracy都明顯比其他訓練方是低很多，因此可推測出此特別方法有提升Accuracy的效果。\n",
        "\n",
        "除此之外，也可以看出NN Model是何處理WordVector文字向量資料，在使用含有文字向量的資料集時，Accuracy都比只用Feature資料時來的高，與機器學習的Model不同。\n",
        "\n",
        "雖然先將 WordVector 放入模型產生機率，再結合Feature Array的模型的loss最低，但Accuracy為訓練時放入Merged data的模型，Accuracy 為 0.88。"
      ],
      "metadata": {
        "id": "267rnvUtTdo1"
      }
    },
    {
      "cell_type": "markdown",
      "source": [
        "\n",
        "# **discussion**\n",
        "**介紹**\n"
      ],
      "metadata": {
        "id": "x3ux5SxujH7W"
      }
    },
    {
      "cell_type": "markdown",
      "source": [
        "# 程式碼"
      ],
      "metadata": {
        "id": "ophiuqXajOnI"
      }
    },
    {
      "cell_type": "markdown",
      "source": [
        "## 安裝套件"
      ],
      "metadata": {
        "id": "NzxcafCMjRva"
      }
    },
    {
      "cell_type": "code",
      "source": [
        "!pip install transformers\n",
        "!pip install imbalanced-learn"
      ],
      "metadata": {
        "colab": {
          "base_uri": "https://localhost:8080/"
        },
        "id": "1sV7PnE-qGrM",
        "outputId": "a06f99cb-4573-4583-ba52-51b00b5d2a9e"
      },
      "execution_count": null,
      "outputs": [
        {
          "output_type": "stream",
          "name": "stdout",
          "text": [
            "Looking in indexes: https://pypi.org/simple, https://us-python.pkg.dev/colab-wheels/public/simple/\n",
            "Collecting transformers\n",
            "  Downloading transformers-4.30.1-py3-none-any.whl (7.2 MB)\n",
            "\u001b[2K     \u001b[90m━━━━━━━━━━━━━━━━━━━━━━━━━━━━━━━━━━━━━━━━\u001b[0m \u001b[32m7.2/7.2 MB\u001b[0m \u001b[31m58.0 MB/s\u001b[0m eta \u001b[36m0:00:00\u001b[0m\n",
            "\u001b[?25hRequirement already satisfied: filelock in /usr/local/lib/python3.10/dist-packages (from transformers) (3.12.0)\n",
            "Collecting huggingface-hub<1.0,>=0.14.1 (from transformers)\n",
            "  Downloading huggingface_hub-0.15.1-py3-none-any.whl (236 kB)\n",
            "\u001b[2K     \u001b[90m━━━━━━━━━━━━━━━━━━━━━━━━━━━━━━━━━━━━━━\u001b[0m \u001b[32m236.8/236.8 kB\u001b[0m \u001b[31m29.0 MB/s\u001b[0m eta \u001b[36m0:00:00\u001b[0m\n",
            "\u001b[?25hRequirement already satisfied: numpy>=1.17 in /usr/local/lib/python3.10/dist-packages (from transformers) (1.22.4)\n",
            "Requirement already satisfied: packaging>=20.0 in /usr/local/lib/python3.10/dist-packages (from transformers) (23.1)\n",
            "Requirement already satisfied: pyyaml>=5.1 in /usr/local/lib/python3.10/dist-packages (from transformers) (6.0)\n",
            "Requirement already satisfied: regex!=2019.12.17 in /usr/local/lib/python3.10/dist-packages (from transformers) (2022.10.31)\n",
            "Requirement already satisfied: requests in /usr/local/lib/python3.10/dist-packages (from transformers) (2.27.1)\n",
            "Collecting tokenizers!=0.11.3,<0.14,>=0.11.1 (from transformers)\n",
            "  Downloading tokenizers-0.13.3-cp310-cp310-manylinux_2_17_x86_64.manylinux2014_x86_64.whl (7.8 MB)\n",
            "\u001b[2K     \u001b[90m━━━━━━━━━━━━━━━━━━━━━━━━━━━━━━━━━━━━━━━━\u001b[0m \u001b[32m7.8/7.8 MB\u001b[0m \u001b[31m96.1 MB/s\u001b[0m eta \u001b[36m0:00:00\u001b[0m\n",
            "\u001b[?25hCollecting safetensors>=0.3.1 (from transformers)\n",
            "  Downloading safetensors-0.3.1-cp310-cp310-manylinux_2_17_x86_64.manylinux2014_x86_64.whl (1.3 MB)\n",
            "\u001b[2K     \u001b[90m━━━━━━━━━━━━━━━━━━━━━━━━━━━━━━━━━━━━━━━━\u001b[0m \u001b[32m1.3/1.3 MB\u001b[0m \u001b[31m75.2 MB/s\u001b[0m eta \u001b[36m0:00:00\u001b[0m\n",
            "\u001b[?25hRequirement already satisfied: tqdm>=4.27 in /usr/local/lib/python3.10/dist-packages (from transformers) (4.65.0)\n",
            "Requirement already satisfied: fsspec in /usr/local/lib/python3.10/dist-packages (from huggingface-hub<1.0,>=0.14.1->transformers) (2023.4.0)\n",
            "Requirement already satisfied: typing-extensions>=3.7.4.3 in /usr/local/lib/python3.10/dist-packages (from huggingface-hub<1.0,>=0.14.1->transformers) (4.5.0)\n",
            "Requirement already satisfied: urllib3<1.27,>=1.21.1 in /usr/local/lib/python3.10/dist-packages (from requests->transformers) (1.26.15)\n",
            "Requirement already satisfied: certifi>=2017.4.17 in /usr/local/lib/python3.10/dist-packages (from requests->transformers) (2022.12.7)\n",
            "Requirement already satisfied: charset-normalizer~=2.0.0 in /usr/local/lib/python3.10/dist-packages (from requests->transformers) (2.0.12)\n",
            "Requirement already satisfied: idna<4,>=2.5 in /usr/local/lib/python3.10/dist-packages (from requests->transformers) (3.4)\n",
            "Installing collected packages: tokenizers, safetensors, huggingface-hub, transformers\n",
            "Successfully installed huggingface-hub-0.15.1 safetensors-0.3.1 tokenizers-0.13.3 transformers-4.30.1\n",
            "Looking in indexes: https://pypi.org/simple, https://us-python.pkg.dev/colab-wheels/public/simple/\n",
            "Requirement already satisfied: imbalanced-learn in /usr/local/lib/python3.10/dist-packages (0.10.1)\n",
            "Requirement already satisfied: numpy>=1.17.3 in /usr/local/lib/python3.10/dist-packages (from imbalanced-learn) (1.22.4)\n",
            "Requirement already satisfied: scipy>=1.3.2 in /usr/local/lib/python3.10/dist-packages (from imbalanced-learn) (1.10.1)\n",
            "Requirement already satisfied: scikit-learn>=1.0.2 in /usr/local/lib/python3.10/dist-packages (from imbalanced-learn) (1.2.2)\n",
            "Requirement already satisfied: joblib>=1.1.1 in /usr/local/lib/python3.10/dist-packages (from imbalanced-learn) (1.2.0)\n",
            "Requirement already satisfied: threadpoolctl>=2.0.0 in /usr/local/lib/python3.10/dist-packages (from imbalanced-learn) (3.1.0)\n"
          ]
        }
      ]
    },
    {
      "cell_type": "markdown",
      "source": [
        "## 下載和解壓檔案"
      ],
      "metadata": {
        "id": "CIp1guiRn8xy"
      }
    },
    {
      "cell_type": "code",
      "source": [
        "import requests\n",
        "import zipfile\n",
        "\n",
        "url = 'https://github.com/Tonyrj3268/DS4CS-FinalProject/raw/main/archive.zip'\n",
        "response = requests.get(url)\n",
        "with open('archive.zip', 'wb') as file:\n",
        "    file.write(response.content)\n",
        "with zipfile.ZipFile('archive.zip', 'r') as zip_ref:\n",
        "    zip_ref.extractall('/content/')"
      ],
      "metadata": {
        "id": "FF_Fi6vCjpd0"
      },
      "execution_count": null,
      "outputs": []
    },
    {
      "cell_type": "markdown",
      "source": [
        "## 加載模組"
      ],
      "metadata": {
        "id": "il0Zip-7oYC_"
      }
    },
    {
      "cell_type": "code",
      "source": [
        "import pandas as pd\n",
        "import matplotlib.pyplot as plt\n",
        "import json\n",
        "import numpy as np\n",
        "import string\n",
        "from urllib.parse import urlparse\n",
        "import re\n",
        "from transformers import BertModel, BertTokenizer\n",
        "import torch\n",
        "from imblearn.under_sampling import RandomUnderSampler\n",
        "import torch.nn as nn\n",
        "import torch.optim as optim\n",
        "import torch.nn.functional as F\n",
        "from torch.utils.data import TensorDataset, DataLoader\n",
        "from sklearn.model_selection import train_test_split\n",
        "from sklearn.tree import DecisionTreeClassifier\n",
        "from sklearn.ensemble import RandomForestClassifier\n",
        "from xgboost import XGBClassifier"
      ],
      "metadata": {
        "id": "0E9CBIZaaZz4"
      },
      "execution_count": null,
      "outputs": []
    },
    {
      "cell_type": "markdown",
      "source": [
        "## gpu check"
      ],
      "metadata": {
        "id": "7t6cjb9podig"
      }
    },
    {
      "cell_type": "code",
      "source": [
        "if torch.cuda.is_available():\n",
        "    device = torch.device('cuda')\n",
        "else:\n",
        "    device = torch.device('cpu')\n",
        "print(device)"
      ],
      "metadata": {
        "colab": {
          "base_uri": "https://localhost:8080/"
        },
        "id": "LMkCA5yGxSJu",
        "outputId": "2a6f5d6b-605d-4786-a77d-641107753646"
      },
      "execution_count": null,
      "outputs": [
        {
          "output_type": "stream",
          "name": "stdout",
          "text": [
            "cuda\n"
          ]
        }
      ]
    },
    {
      "cell_type": "markdown",
      "source": [
        "## 分析資料集"
      ],
      "metadata": {
        "id": "aaqHtUIuotAQ"
      }
    },
    {
      "cell_type": "code",
      "source": [
        "df = pd.read_csv('/content/malicious_phish.csv')\n",
        "df.head()"
      ],
      "metadata": {
        "id": "Wgfc2NUvZT-B",
        "outputId": "1bffb653-e905-4d23-fb99-c7bc1a1caf19",
        "colab": {
          "base_uri": "https://localhost:8080/",
          "height": 206
        }
      },
      "execution_count": null,
      "outputs": [
        {
          "output_type": "execute_result",
          "data": {
            "text/plain": [
              "                                                 url        type\n",
              "0                                   br-icloud.com.br    phishing\n",
              "1                mp3raid.com/music/krizz_kaliko.html      benign\n",
              "2                    bopsecrets.org/rexroth/cr/1.htm      benign\n",
              "3  http://www.garage-pirenne.be/index.php?option=...  defacement\n",
              "4  http://adventure-nicaragua.net/index.php?optio...  defacement"
            ],
            "text/html": [
              "\n",
              "  <div id=\"df-fea9f086-4b57-4039-8ad1-c47153ee97a7\">\n",
              "    <div class=\"colab-df-container\">\n",
              "      <div>\n",
              "<style scoped>\n",
              "    .dataframe tbody tr th:only-of-type {\n",
              "        vertical-align: middle;\n",
              "    }\n",
              "\n",
              "    .dataframe tbody tr th {\n",
              "        vertical-align: top;\n",
              "    }\n",
              "\n",
              "    .dataframe thead th {\n",
              "        text-align: right;\n",
              "    }\n",
              "</style>\n",
              "<table border=\"1\" class=\"dataframe\">\n",
              "  <thead>\n",
              "    <tr style=\"text-align: right;\">\n",
              "      <th></th>\n",
              "      <th>url</th>\n",
              "      <th>type</th>\n",
              "    </tr>\n",
              "  </thead>\n",
              "  <tbody>\n",
              "    <tr>\n",
              "      <th>0</th>\n",
              "      <td>br-icloud.com.br</td>\n",
              "      <td>phishing</td>\n",
              "    </tr>\n",
              "    <tr>\n",
              "      <th>1</th>\n",
              "      <td>mp3raid.com/music/krizz_kaliko.html</td>\n",
              "      <td>benign</td>\n",
              "    </tr>\n",
              "    <tr>\n",
              "      <th>2</th>\n",
              "      <td>bopsecrets.org/rexroth/cr/1.htm</td>\n",
              "      <td>benign</td>\n",
              "    </tr>\n",
              "    <tr>\n",
              "      <th>3</th>\n",
              "      <td>http://www.garage-pirenne.be/index.php?option=...</td>\n",
              "      <td>defacement</td>\n",
              "    </tr>\n",
              "    <tr>\n",
              "      <th>4</th>\n",
              "      <td>http://adventure-nicaragua.net/index.php?optio...</td>\n",
              "      <td>defacement</td>\n",
              "    </tr>\n",
              "  </tbody>\n",
              "</table>\n",
              "</div>\n",
              "      <button class=\"colab-df-convert\" onclick=\"convertToInteractive('df-fea9f086-4b57-4039-8ad1-c47153ee97a7')\"\n",
              "              title=\"Convert this dataframe to an interactive table.\"\n",
              "              style=\"display:none;\">\n",
              "        \n",
              "  <svg xmlns=\"http://www.w3.org/2000/svg\" height=\"24px\"viewBox=\"0 0 24 24\"\n",
              "       width=\"24px\">\n",
              "    <path d=\"M0 0h24v24H0V0z\" fill=\"none\"/>\n",
              "    <path d=\"M18.56 5.44l.94 2.06.94-2.06 2.06-.94-2.06-.94-.94-2.06-.94 2.06-2.06.94zm-11 1L8.5 8.5l.94-2.06 2.06-.94-2.06-.94L8.5 2.5l-.94 2.06-2.06.94zm10 10l.94 2.06.94-2.06 2.06-.94-2.06-.94-.94-2.06-.94 2.06-2.06.94z\"/><path d=\"M17.41 7.96l-1.37-1.37c-.4-.4-.92-.59-1.43-.59-.52 0-1.04.2-1.43.59L10.3 9.45l-7.72 7.72c-.78.78-.78 2.05 0 2.83L4 21.41c.39.39.9.59 1.41.59.51 0 1.02-.2 1.41-.59l7.78-7.78 2.81-2.81c.8-.78.8-2.07 0-2.86zM5.41 20L4 18.59l7.72-7.72 1.47 1.35L5.41 20z\"/>\n",
              "  </svg>\n",
              "      </button>\n",
              "      \n",
              "  <style>\n",
              "    .colab-df-container {\n",
              "      display:flex;\n",
              "      flex-wrap:wrap;\n",
              "      gap: 12px;\n",
              "    }\n",
              "\n",
              "    .colab-df-convert {\n",
              "      background-color: #E8F0FE;\n",
              "      border: none;\n",
              "      border-radius: 50%;\n",
              "      cursor: pointer;\n",
              "      display: none;\n",
              "      fill: #1967D2;\n",
              "      height: 32px;\n",
              "      padding: 0 0 0 0;\n",
              "      width: 32px;\n",
              "    }\n",
              "\n",
              "    .colab-df-convert:hover {\n",
              "      background-color: #E2EBFA;\n",
              "      box-shadow: 0px 1px 2px rgba(60, 64, 67, 0.3), 0px 1px 3px 1px rgba(60, 64, 67, 0.15);\n",
              "      fill: #174EA6;\n",
              "    }\n",
              "\n",
              "    [theme=dark] .colab-df-convert {\n",
              "      background-color: #3B4455;\n",
              "      fill: #D2E3FC;\n",
              "    }\n",
              "\n",
              "    [theme=dark] .colab-df-convert:hover {\n",
              "      background-color: #434B5C;\n",
              "      box-shadow: 0px 1px 3px 1px rgba(0, 0, 0, 0.15);\n",
              "      filter: drop-shadow(0px 1px 2px rgba(0, 0, 0, 0.3));\n",
              "      fill: #FFFFFF;\n",
              "    }\n",
              "  </style>\n",
              "\n",
              "      <script>\n",
              "        const buttonEl =\n",
              "          document.querySelector('#df-fea9f086-4b57-4039-8ad1-c47153ee97a7 button.colab-df-convert');\n",
              "        buttonEl.style.display =\n",
              "          google.colab.kernel.accessAllowed ? 'block' : 'none';\n",
              "\n",
              "        async function convertToInteractive(key) {\n",
              "          const element = document.querySelector('#df-fea9f086-4b57-4039-8ad1-c47153ee97a7');\n",
              "          const dataTable =\n",
              "            await google.colab.kernel.invokeFunction('convertToInteractive',\n",
              "                                                     [key], {});\n",
              "          if (!dataTable) return;\n",
              "\n",
              "          const docLinkHtml = 'Like what you see? Visit the ' +\n",
              "            '<a target=\"_blank\" href=https://colab.research.google.com/notebooks/data_table.ipynb>data table notebook</a>'\n",
              "            + ' to learn more about interactive tables.';\n",
              "          element.innerHTML = '';\n",
              "          dataTable['output_type'] = 'display_data';\n",
              "          await google.colab.output.renderOutput(dataTable, element);\n",
              "          const docLink = document.createElement('div');\n",
              "          docLink.innerHTML = docLinkHtml;\n",
              "          element.appendChild(docLink);\n",
              "        }\n",
              "      </script>\n",
              "    </div>\n",
              "  </div>\n",
              "  "
            ]
          },
          "metadata": {},
          "execution_count": 5
        }
      ]
    },
    {
      "cell_type": "markdown",
      "source": [
        "由於資料集的label分配不均，且資料太過龐大(65萬筆)，使用欠採樣平衡數據集並且縮小訓練資料量，display = True僅供助教和展示時使用(限縮資料量成1萬筆)，原本呈現之結果為欠採樣後之訓練數量。\n"
      ],
      "metadata": {
        "id": "u-T5-YLao4Q0"
      }
    },
    {
      "cell_type": "code",
      "source": [
        "display = True"
      ],
      "metadata": {
        "id": "OueM8PZjqwvr"
      },
      "execution_count": null,
      "outputs": []
    },
    {
      "cell_type": "code",
      "source": [
        "category_counts = df['type'].value_counts()\n",
        "colors = ['red', 'green', 'blue', 'yellow']\n",
        "plt.bar(category_counts.index, category_counts.values, color=colors)\n",
        "plt.xlabel(\"Type\")\n",
        "plt.ylabel(\"Count\")\n",
        "plt.title(\"Distribution of Types\")\n",
        "plt.xticks(rotation='vertical')\n",
        "plt.show()"
      ],
      "metadata": {
        "colab": {
          "base_uri": "https://localhost:8080/",
          "height": 541
        },
        "id": "vRjaEcrOaiv-",
        "outputId": "79b09152-476e-4d6f-9485-aac5750e3403"
      },
      "execution_count": null,
      "outputs": [
        {
          "output_type": "display_data",
          "data": {
            "text/plain": [
              "<Figure size 640x480 with 1 Axes>"
            ],
            "image/png": "[encoded data removed]"
          },
          "metadata": {}
        }
      ]
    },
    {
      "cell_type": "code",
      "source": [
        "X = df[['url']]\n",
        "y = df['type']\n",
        "\n",
        "under_sampler = RandomUnderSampler(random_state=42)\n",
        "X_resampled, y_resampled = under_sampler.fit_resample(X, y)\n",
        "\n",
        "print(\"處理後的樣本數:\", len(X_resampled))\n",
        "print(\"處理後的樣本分佈:\")\n",
        "print(y_resampled.value_counts())\n",
        "\n",
        "re_df = pd.concat([X_resampled, y_resampled], axis=1)\n",
        "if display:\n",
        "  re_df = re_df.sample(n=10000, random_state=42)"
      ],
      "metadata": {
        "colab": {
          "base_uri": "https://localhost:8080/"
        },
        "id": "dAjkp1RmxCfH",
        "outputId": "784d9209-d91c-4683-c387-53283ed9f4e7"
      },
      "execution_count": null,
      "outputs": [
        {
          "output_type": "stream",
          "name": "stdout",
          "text": [
            "處理後的樣本數: 130080\n",
            "處理後的樣本分佈:\n",
            "benign        32520\n",
            "defacement    32520\n",
            "malware       32520\n",
            "phishing      32520\n",
            "Name: type, dtype: int64\n"
          ]
        }
      ]
    },
    {
      "cell_type": "markdown",
      "source": [
        "# 預處理"
      ],
      "metadata": {
        "id": "ljQyOnD6rtza"
      }
    },
    {
      "cell_type": "markdown",
      "source": [
        "## 特殊字符\n",
        "計算特殊字符之數量，若完全沒該字符出現，則捨棄此字符欄位。"
      ],
      "metadata": {
        "id": "MV5wXu2Vr0Jk"
      }
    },
    {
      "cell_type": "code",
      "source": [
        "special_chars = ['!', '@', '#', '$', '%', '^', '&', '*', '(', ')', '_', '-', '+', '=',\\\n",
        "         '{', '}', '[', ']', '|', '\\\\', ':', ';', '<', '>', ',', '.', '?', '/', '`', '~']  # 定义特殊字符列表\n",
        "\n",
        "for a in special_chars:\n",
        "    re_df[a] = re_df['url'].apply(lambda i: i.count(a))\n",
        "absent_chars = [char for char in special_chars if re_df[char].sum() == 0]\n",
        "re_df.drop(columns=absent_chars, inplace=True)"
      ],
      "metadata": {
        "id": "m07i2eg6bQu6"
      },
      "execution_count": null,
      "outputs": []
    },
    {
      "cell_type": "markdown",
      "source": [
        "## https 檢查 & url長度計算\n",
        "檢查是否帶有https字串，如有則計為1。\n",
        "計算url之總長度"
      ],
      "metadata": {
        "id": "Dsp0AYDnsxt9"
      }
    },
    {
      "cell_type": "code",
      "source": [
        "def httpSecure(url):\n",
        "    http = urlparse(url).scheme\n",
        "    match = str(http)\n",
        "    if match=='https':\n",
        "        return 1\n",
        "    else:\n",
        "        return 0\n",
        "re_df['https'] = re_df['url'].apply(lambda i: httpSecure(i))\n",
        "re_df['url_len'] = re_df['url'].apply(lambda i: len(str(i)))"
      ],
      "metadata": {
        "id": "04JHQQ-_el1_"
      },
      "execution_count": null,
      "outputs": []
    },
    {
      "cell_type": "code",
      "source": [
        "re_df.info()"
      ],
      "metadata": {
        "id": "PQir77QvAHc6",
        "outputId": "043ce1c5-0110-4024-9d54-368c03c4d67d",
        "colab": {
          "base_uri": "https://localhost:8080/"
        }
      },
      "execution_count": null,
      "outputs": [
        {
          "output_type": "stream",
          "name": "stdout",
          "text": [
            "<class 'pandas.core.frame.DataFrame'>\n",
            "Int64Index: 10000 entries, 115240 to 117856\n",
            "Data columns (total 32 columns):\n",
            " #   Column   Non-Null Count  Dtype \n",
            "---  ------   --------------  ----- \n",
            " 0   url      10000 non-null  object\n",
            " 1   type     10000 non-null  object\n",
            " 2   !        10000 non-null  int64 \n",
            " 3   @        10000 non-null  int64 \n",
            " 4   #        10000 non-null  int64 \n",
            " 5   $        10000 non-null  int64 \n",
            " 6   %        10000 non-null  int64 \n",
            " 7   ^        10000 non-null  int64 \n",
            " 8   &        10000 non-null  int64 \n",
            " 9   *        10000 non-null  int64 \n",
            " 10  (        10000 non-null  int64 \n",
            " 11  )        10000 non-null  int64 \n",
            " 12  _        10000 non-null  int64 \n",
            " 13  -        10000 non-null  int64 \n",
            " 14  +        10000 non-null  int64 \n",
            " 15  =        10000 non-null  int64 \n",
            " 16  {        10000 non-null  int64 \n",
            " 17  }        10000 non-null  int64 \n",
            " 18  [        10000 non-null  int64 \n",
            " 19  ]        10000 non-null  int64 \n",
            " 20  |        10000 non-null  int64 \n",
            " 21  \\        10000 non-null  int64 \n",
            " 22  :        10000 non-null  int64 \n",
            " 23  ;        10000 non-null  int64 \n",
            " 24  >        10000 non-null  int64 \n",
            " 25  ,        10000 non-null  int64 \n",
            " 26  .        10000 non-null  int64 \n",
            " 27  ?        10000 non-null  int64 \n",
            " 28  /        10000 non-null  int64 \n",
            " 29  ~        10000 non-null  int64 \n",
            " 30  https    10000 non-null  int64 \n",
            " 31  url_len  10000 non-null  int64 \n",
            "dtypes: int64(30), object(2)\n",
            "memory usage: 2.5+ MB\n"
          ]
        }
      ]
    },
    {
      "cell_type": "markdown",
      "source": [
        "## 加載bert模型"
      ],
      "metadata": {
        "id": "TjcxPcB5tT3N"
      }
    },
    {
      "cell_type": "code",
      "source": [
        "tokenizer = BertTokenizer.from_pretrained('bert-base-uncased')#bert-base-uncased\n",
        "model = BertModel.from_pretrained('bert-base-uncased').to(device)"
      ],
      "metadata": {
        "colab": {
          "base_uri": "https://localhost:8080/"
        },
        "id": "mDzleYwdo7P9",
        "outputId": "64e763bf-7651-4f17-8545-d7800aad72ed"
      },
      "execution_count": null,
      "outputs": [
        {
          "output_type": "stream",
          "name": "stderr",
          "text": [
            "Some weights of the model checkpoint at bert-base-uncased were not used when initializing BertModel: ['cls.seq_relationship.bias', 'cls.predictions.transform.dense.bias', 'cls.predictions.transform.LayerNorm.weight', 'cls.predictions.transform.LayerNorm.bias', 'cls.predictions.transform.dense.weight', 'cls.seq_relationship.weight', 'cls.predictions.bias']\n",
            "- This IS expected if you are initializing BertModel from the checkpoint of a model trained on another task or with another architecture (e.g. initializing a BertForSequenceClassification model from a BertForPreTraining model).\n",
            "- This IS NOT expected if you are initializing BertModel from the checkpoint of a model that you expect to be exactly identical (initializing a BertForSequenceClassification model from a BertForSequenceClassification model).\n"
          ]
        }
      ]
    },
    {
      "cell_type": "markdown",
      "source": [
        "## 切割url\n",
        "1.  將url的特殊字符去除，獲得剩餘單字詞的集合，例如:www.example.com => [www, example, com]。\n",
        "2.  使用已訓練好的tokenizer獲得單詞之token ID，將token集合放入bert 模型生成1維768長度的值\n",
        "3.  display mode預估訓練時間3分半"
      ],
      "metadata": {
        "id": "1yb85IiGRrbj"
      }
    },
    {
      "cell_type": "code",
      "source": [
        "def urlSplitBatch(urls):\n",
        "    url_parts = [re.sub(r'\\s+', ' ', re.sub(r'[^\\w\\s]', ' ', url)).split(' ') for url in urls]\n",
        "    tokens = [tokenizer.batch_encode_plus(parts, padding=True, truncation=True, return_tensors='pt') for parts in url_parts]\n",
        "    input_ids = [token[\"input_ids\"] for token in tokens]\n",
        "    url_vectors = []\n",
        "    for ids in input_ids:\n",
        "      with torch.no_grad():\n",
        "          ids = ids.to(device)\n",
        "          last_hidden_states = model(ids)[0]\n",
        "      url_vectors.append(last_hidden_states.mean(dim=[0, 1]).unsqueeze(0))\n",
        "\n",
        "    url_vectors = torch.cat(url_vectors, dim=0).to(device)\n",
        "    return url_vectors\n",
        "\n",
        "\n",
        "# 在主要迴圈中使用批次處理\n",
        "BATCH_SIZE = 1000 # 你可以根據你的硬體配置和需求來調整批次的大小\n",
        "word_vector = []\n",
        "rows_to_drop = []\n",
        "total = len(re_df['url'])\n",
        "checkpoint = total // 100\n",
        "for start in range(0, total, BATCH_SIZE):\n",
        "  end = min(start + BATCH_SIZE, total)\n",
        "  batch_indices = re_df.index[start:end]\n",
        "  batch = re_df['url'].loc[batch_indices]\n",
        "  try:\n",
        "    split_urls = urlSplitBatch(batch)  # 對整個批次進行split操作\n",
        "  except:\n",
        "    print(f\"第{start}批資料集發生錯誤，跳過並移除\")\n",
        "    rows_to_drop.extend(batch_indices)  # 若split操作失敗，將整個批次的索引加入要刪除的列表\n",
        "    continue\n",
        "\n",
        "  list_from_tensor = split_urls.tolist()\n",
        "  word_vector.extend(list_from_tensor)\n",
        "\n",
        "  if end % checkpoint == 0:\n",
        "      print(\"已完成：{:.0f}%\".format(end / total * 100))"
      ],
      "metadata": {
        "id": "pmPZI8jL_pKm",
        "outputId": "2f3acaea-cc9a-4799-f7ef-3e7a7471cd0b",
        "colab": {
          "base_uri": "https://localhost:8080/"
        }
      },
      "execution_count": null,
      "outputs": [
        {
          "output_type": "stream",
          "name": "stdout",
          "text": [
            "已完成：10%\n",
            "已完成：20%\n",
            "已完成：30%\n",
            "已完成：40%\n",
            "已完成：50%\n",
            "已完成：60%\n",
            "已完成：70%\n",
            "已完成：80%\n",
            "已完成：90%\n",
            "已完成：100%\n"
          ]
        }
      ]
    },
    {
      "cell_type": "code",
      "source": [
        "class AutoEncoder(nn.Module):\n",
        "    def __init__(self, input_dim, encoding_dim):\n",
        "        super(AutoEncoder, self).__init__()\n",
        "        mid_dim = (input_dim + encoding_dim) // 2  # add an intermediate layer with average dimension\n",
        "\n",
        "        # Encoder layers\n",
        "        self.encoder = nn.Sequential(\n",
        "            nn.Linear(input_dim, mid_dim),\n",
        "            nn.ReLU(),\n",
        "            nn.Linear(mid_dim, encoding_dim),\n",
        "            nn.ReLU()\n",
        "        )\n",
        "\n",
        "        # Decoder layers\n",
        "        self.decoder = nn.Sequential(\n",
        "            nn.Linear(encoding_dim, mid_dim),\n",
        "            nn.ReLU(),\n",
        "            nn.Linear(mid_dim, input_dim),\n",
        "        )\n",
        "\n",
        "    def forward(self, x):\n",
        "        x = torch.relu(self.encoder(x))\n",
        "        x = self.decoder(x)\n",
        "        return x\n"
      ],
      "metadata": {
        "id": "OKSB11P40-9y"
      },
      "execution_count": null,
      "outputs": []
    },
    {
      "cell_type": "code",
      "source": [
        "input_dim = len(word_vector[0])  # number of features\n",
        "encoding_dim = 200  # desired dimension after encoding\n",
        "\n",
        "model = AutoEncoder(input_dim, encoding_dim).to(device)\n",
        "criterion = nn.MSELoss()\n",
        "optimizer = torch.optim.Adam(model.parameters())\n",
        "EPOCHES = 20\n",
        "\n",
        "features = torch.from_numpy(np.array(word_vector)).float().to(device)\n",
        "dataset = TensorDataset(features)\n",
        "data_loader = DataLoader(dataset, batch_size=128, shuffle=True)\n",
        "\n",
        "for epoch in range(EPOCHES):\n",
        "    for feature in data_loader:\n",
        "        # forward\n",
        "        outputs = model(feature[0])\n",
        "        loss = criterion(outputs, feature[0])\n",
        "\n",
        "        # backward and optimize\n",
        "        optimizer.zero_grad()\n",
        "        loss.backward()\n",
        "        optimizer.step()\n",
        "\n",
        "    print(f'Epoch [{epoch+1}/{EPOCHES}], Loss: {loss.item():.4f}')\n",
        "with torch.no_grad():\n",
        "    encoded_data = model.encoder(features)"
      ],
      "metadata": {
        "id": "daVnhdnL1FBc",
        "outputId": "a3b9a23f-6d90-482b-aebf-3be3e58a64a3",
        "colab": {
          "base_uri": "https://localhost:8080/"
        }
      },
      "execution_count": null,
      "outputs": [
        {
          "output_type": "stream",
          "name": "stdout",
          "text": [
            "Epoch [1/20], Loss: 0.0044\n",
            "Epoch [2/20], Loss: 0.0024\n",
            "Epoch [3/20], Loss: 0.0025\n",
            "Epoch [4/20], Loss: 0.0013\n",
            "Epoch [5/20], Loss: 0.0017\n",
            "Epoch [6/20], Loss: 0.0015\n",
            "Epoch [7/20], Loss: 0.0009\n",
            "Epoch [8/20], Loss: 0.0029\n",
            "Epoch [9/20], Loss: 0.0015\n",
            "Epoch [10/20], Loss: 0.0019\n",
            "Epoch [11/20], Loss: 0.0013\n",
            "Epoch [12/20], Loss: 0.0012\n",
            "Epoch [13/20], Loss: 0.0013\n",
            "Epoch [14/20], Loss: 0.0009\n",
            "Epoch [15/20], Loss: 0.0015\n",
            "Epoch [16/20], Loss: 0.0014\n",
            "Epoch [17/20], Loss: 0.0013\n",
            "Epoch [18/20], Loss: 0.0012\n",
            "Epoch [19/20], Loss: 0.0013\n",
            "Epoch [20/20], Loss: 0.0014\n"
          ]
        }
      ]
    },
    {
      "cell_type": "markdown",
      "source": [
        "## 切分成3種特徵\n",
        "1.  純單字詞矩陣\n",
        "2.  純原url之特徵矩陣\n",
        "3.  上面兩種之結合"
      ],
      "metadata": {
        "id": "3wSRMHRETCic"
      }
    },
    {
      "cell_type": "code",
      "source": [
        "word_vector_array = encoded_data.cpu()\n",
        "feature_array = re_df.drop(['url', 'type'], axis=1).drop(rows_to_drop).to_numpy()\n",
        "merged_array = np.hstack((feature_array, word_vector_array))\n",
        "\n",
        "target = pd.get_dummies(re_df['type'], columns=['type'])"
      ],
      "metadata": {
        "id": "Zch7sbk1ll2C"
      },
      "execution_count": null,
      "outputs": []
    },
    {
      "cell_type": "markdown",
      "source": [
        "## scikit-learn 模型訓練\n",
        "使用決策樹和隨機森林分別對3種特徵進行訓練"
      ],
      "metadata": {
        "id": "eGakIY8tUtZU"
      }
    },
    {
      "cell_type": "code",
      "source": [
        "feature_arrays = [feature_array, word_vector_array, merged_array]\n",
        "feature_name = [\"feature_array\", \"word_vector_array\", \"merged_array\"]\n",
        "models = [DecisionTreeClassifier(), RandomForestClassifier(n_jobs=-1),XGBClassifier(use_label_encoder=False, eval_metric='mlogloss', tree_method='gpu_hist')]\n",
        "\n",
        "print(\"{:<20s} {:<20s} {:<10s}\".format(\"特徵\", \"模型\", \"準確率\"))\n",
        "print(\"=\"*50)\n",
        "\n",
        "for i,features in enumerate(feature_arrays):\n",
        "    X_train, X_test, y_train, y_test = train_test_split(features, target, test_size=0.2, random_state=42)\n",
        "\n",
        "    for model in models:\n",
        "        classifier = model\n",
        "\n",
        "        classifier.fit(X_train, y_train)\n",
        "\n",
        "        y_pred = classifier.predict(X_test)\n",
        "\n",
        "        accuracy = classifier.score(X_test, y_test)\n",
        "\n",
        "        print(\"{:<20s} {:<20s} {:.4f}\".format(feature_name[i], model.__class__.__name__, accuracy))\n",
        "\n",
        "print(\"=\"*50)"
      ],
      "metadata": {
        "id": "Xjq8z1DvS52O",
        "outputId": "72430aa7-00cd-4863-822f-c3471cb9cd83",
        "colab": {
          "base_uri": "https://localhost:8080/"
        }
      },
      "execution_count": null,
      "outputs": [
        {
          "output_type": "stream",
          "name": "stderr",
          "text": [
            "/usr/local/lib/python3.10/dist-packages/xgboost/sklearn.py:1395: UserWarning: `use_label_encoder` is deprecated in 1.7.0.\n",
            "  warnings.warn(\"`use_label_encoder` is deprecated in 1.7.0.\")\n"
          ]
        },
        {
          "output_type": "stream",
          "name": "stdout",
          "text": [
            "特徵                   模型                   準確率       \n",
            "==================================================\n",
            "feature_array        DecisionTreeClassifier 0.8070\n",
            "feature_array        RandomForestClassifier 0.8360\n",
            "feature_array        XGBClassifier        0.8405\n",
            "word_vector_array    DecisionTreeClassifier 0.6470\n",
            "word_vector_array    RandomForestClassifier 0.6245\n",
            "word_vector_array    XGBClassifier        0.7230\n",
            "merged_array         DecisionTreeClassifier 0.8110\n",
            "merged_array         RandomForestClassifier 0.7850\n",
            "merged_array         XGBClassifier        0.8710\n",
            "==================================================\n"
          ]
        }
      ]
    },
    {
      "cell_type": "markdown",
      "source": [
        "## 神經網路\n",
        "使用神經網路對三種資料集進行訓練"
      ],
      "metadata": {
        "id": "ILMuGYqGU6R-"
      }
    },
    {
      "cell_type": "code",
      "source": [
        "class FeatureNet(nn.Module):\n",
        "    def __init__(self, x_len):\n",
        "        super(FeatureNet, self).__init__()\n",
        "        self.fc1 = nn.Linear(x_len, 128)\n",
        "        self.fc2 = nn.Linear(128, 256)\n",
        "        self.fc3 = nn.Linear(256, 4)\n",
        "\n",
        "    def forward(self, x):\n",
        "        x = torch.relu(self.fc1(x))\n",
        "        x = torch.relu(self.fc2(x))\n",
        "        x = torch.log_softmax(self.fc3(x), dim=1)\n",
        "        return x\n",
        "class WordNet(nn.Module):\n",
        "    def __init__(self, x_len):\n",
        "        super(WordNet, self).__init__()\n",
        "        self.fc1 = nn.Linear(x_len, 600)\n",
        "        self.bn1 = nn.BatchNorm1d(600)\n",
        "        self.fc2 = nn.Linear(600, 400)\n",
        "        self.bn2 = nn.BatchNorm1d(400)\n",
        "        self.fc3 = nn.Linear(400, 200)\n",
        "        self.bn3 = nn.BatchNorm1d(200)\n",
        "        self.fc4 = nn.Linear(200, 100)\n",
        "        self.dropout = nn.Dropout(0.5)\n",
        "        self.fc5 = nn.Linear(100, 4)\n",
        "\n",
        "    def forward(self, x):\n",
        "        x = F.relu(self.bn1(self.fc1(x)))\n",
        "        x = self.dropout(x)\n",
        "        x = F.relu(self.bn2(self.fc2(x)))\n",
        "        x = self.dropout(x)\n",
        "        x = F.relu(self.bn3(self.fc3(x)))\n",
        "        x = self.dropout(x)\n",
        "        x = F.relu(self.fc4(x))\n",
        "        x = torch.log_softmax(self.fc5(x), dim=1)  # 使用 LogSoftmax\n",
        "        return x"
      ],
      "metadata": {
        "id": "cN92PAb3UsXl"
      },
      "execution_count": null,
      "outputs": []
    },
    {
      "cell_type": "code",
      "source": [
        "class EarlyStopping:\n",
        "    def __init__(self, patience=5, verbose=False, delta=0):\n",
        "        self.patience = patience\n",
        "        self.verbose = verbose\n",
        "        self.counter = 0\n",
        "        self.best_score = None\n",
        "        self.early_stop = False\n",
        "        self.val_loss_min = np.Inf\n",
        "        self.delta = delta\n",
        "\n",
        "    def __call__(self, val_loss):\n",
        "        score = -val_loss\n",
        "\n",
        "        if self.best_score is None:\n",
        "            self.best_score = score\n",
        "        elif score < self.best_score + self.delta:\n",
        "            self.counter += 1\n",
        "            print(f'EarlyStopping counter: {self.counter} out of {self.patience}')\n",
        "            if self.counter >= self.patience:\n",
        "                self.early_stop = True\n",
        "        else:\n",
        "            self.best_score = score\n",
        "            self.counter = 0\n"
      ],
      "metadata": {
        "id": "iqGERTUXx0pe"
      },
      "execution_count": null,
      "outputs": []
    },
    {
      "cell_type": "code",
      "source": [
        "mymodels = [FeatureNet(len(feature_array[0])), WordNet(len(word_vector_array[0])), WordNet(len(merged_array[0]))]\n",
        "feature_names = [\"Feature Array\", \"Word Vector Array\", \"Merged Array\"]\n",
        "Epoch = 30\n",
        "loss_results = {}\n",
        "accuracy_results = {}\n",
        "\n",
        "for model, feature_name, features in zip(mymodels, feature_names, feature_arrays):\n",
        "  early_stopping = EarlyStopping(patience=5, verbose=True)\n",
        "  print(f\"\\nTraining model with: {feature_name}\\n\")\n",
        "  features_train, features_test, labels_train, labels_test = train_test_split(features, target.values, test_size=0.2, random_state=42)\n",
        "  features_train, features_val, labels_train, labels_val = train_test_split(features_train, labels_train, test_size=0.2, random_state=42)\n",
        "\n",
        "  # numpy轉換tensors\n",
        "  features_train = torch.tensor(features_train, dtype=torch.float32)\n",
        "  labels_train = torch.tensor(labels_train, dtype=torch.float32)\n",
        "  features_val = torch.tensor(features_val, dtype=torch.float32)\n",
        "  labels_val = torch.tensor(labels_val, dtype=torch.float32)\n",
        "  features_test = torch.tensor(features_test, dtype=torch.float32)\n",
        "  labels_test = torch.tensor(labels_test, dtype=torch.float32)\n",
        "\n",
        "  train_dataset = TensorDataset(features_train, labels_train)\n",
        "  val_dataset = TensorDataset(features_val, labels_val)\n",
        "  test_dataset = TensorDataset(features_test, labels_test)\n",
        "\n",
        "  batch_size = 64\n",
        "  train_dataloader = DataLoader(train_dataset, batch_size=batch_size, shuffle=True)\n",
        "  test_dataloader = DataLoader(test_dataset, batch_size=batch_size, shuffle=False)\n",
        "  val_dataloader = DataLoader(val_dataset, batch_size=batch_size, shuffle=False)\n",
        "\n",
        "  net = model.to(device)\n",
        "  criterion = nn.NLLLoss()\n",
        "  optimizer = optim.Adam(net.parameters())\n",
        "\n",
        "  losses = []\n",
        "  accuracies = []\n",
        "\n",
        "  for epoch in range(Epoch):\n",
        "    running_loss = 0.0\n",
        "    for i, data in enumerate(train_dataloader):\n",
        "      inputs, labels = data\n",
        "      inputs = inputs.to(device)\n",
        "      labels = labels.argmax(dim=1).to(device)\n",
        "      outputs = net(inputs)\n",
        "\n",
        "      optimizer.zero_grad()\n",
        "      loss = criterion(outputs, labels)\n",
        "      loss.backward()\n",
        "      optimizer.step()\n",
        "\n",
        "      running_loss += loss.item()\n",
        "    avg_train_loss = running_loss / len(train_dataloader)\n",
        "    losses.append(avg_train_loss)\n",
        "    print(f'[{feature_name}] Epoch {epoch + 1}, Training Loss: {avg_train_loss}')\n",
        "\n",
        "    # Validation step\n",
        "    running_loss = 0.0\n",
        "    net.eval()  # Set the model to evaluation mode\n",
        "    with torch.no_grad():\n",
        "        for i, data in enumerate(val_dataloader):\n",
        "            inputs, labels = data\n",
        "            inputs = inputs.to(device)\n",
        "            labels = labels.argmax(dim=1).to(device)\n",
        "            outputs = net(inputs)\n",
        "            loss = criterion(outputs, labels)\n",
        "\n",
        "            running_loss += loss.item()\n",
        "\n",
        "    avg_val_loss = running_loss / len(val_dataloader)\n",
        "    print(f'[{feature_name}] Epoch {epoch + 1}, Validation Loss: {avg_val_loss}')\n",
        "\n",
        "    # Check early stopping\n",
        "    early_stopping(avg_val_loss)\n",
        "    if early_stopping.early_stop:\n",
        "        print(\"Early stopping\")\n",
        "        break\n",
        "\n",
        "    # Test the model\n",
        "    net.eval()  # It's important to set the model to evaluation mode\n",
        "    correct = 0\n",
        "    total = 0\n",
        "    with torch.no_grad():\n",
        "      for data in test_dataloader:\n",
        "        inputs, labels = data\n",
        "        inputs = inputs.to(device)\n",
        "        labels = labels.argmax(dim=1).to(device)\n",
        "        outputs = net(inputs)\n",
        "        _, predicted = torch.max(outputs.data, 1)\n",
        "        total += labels.size(0)\n",
        "        correct += (predicted == labels).sum().item()\n",
        "\n",
        "    accuracy = correct / total\n",
        "    accuracies.append(accuracy)\n",
        "    print(f'[{feature_name}] Epoch {epoch + 1}, Accuracy: {accuracy}')\n",
        "\n",
        "    net.train()  # Reset the model to training mode\n",
        "\n",
        "  # Save the average loss and accuracy for this feature\n",
        "  loss_results[feature_name] = losses\n",
        "  accuracy_results[feature_name] = accuracies\n",
        "\n",
        "print('Finished Training')"
      ],
      "metadata": {
        "id": "kZvziQftcbK5",
        "outputId": "2f6b1cc1-ad76-4bdc-e2e7-a8ccd517523f",
        "colab": {
          "base_uri": "https://localhost:8080/"
        }
      },
      "execution_count": null,
      "outputs": [
        {
          "output_type": "stream",
          "name": "stdout",
          "text": [
            "\n",
            "Training model with: Feature Array\n",
            "\n",
            "[Feature Array] Epoch 1, Training Loss: 1.2862191021442413\n",
            "[Feature Array] Epoch 1, Validation Loss: 1.1209890937805176\n",
            "[Feature Array] Epoch 1, Accuracy: 0.583\n",
            "[Feature Array] Epoch 2, Training Loss: 1.0576656156778335\n",
            "[Feature Array] Epoch 2, Validation Loss: 0.9258310914039611\n",
            "[Feature Array] Epoch 2, Accuracy: 0.6665\n",
            "[Feature Array] Epoch 3, Training Loss: 0.9087632417678833\n",
            "[Feature Array] Epoch 3, Validation Loss: 0.8588709330558777\n",
            "[Feature Array] Epoch 3, Accuracy: 0.654\n",
            "[Feature Array] Epoch 4, Training Loss: 0.8001346689462662\n",
            "[Feature Array] Epoch 4, Validation Loss: 0.8063423490524292\n",
            "[Feature Array] Epoch 4, Accuracy: 0.6815\n",
            "[Feature Array] Epoch 5, Training Loss: 0.7724244138598442\n",
            "[Feature Array] Epoch 5, Validation Loss: 0.715779938697815\n",
            "[Feature Array] Epoch 5, Accuracy: 0.735\n",
            "[Feature Array] Epoch 6, Training Loss: 0.7226205784082412\n",
            "[Feature Array] Epoch 6, Validation Loss: 0.7384825134277344\n",
            "EarlyStopping counter: 1 out of 5\n",
            "[Feature Array] Epoch 6, Accuracy: 0.6875\n",
            "[Feature Array] Epoch 7, Training Loss: 0.6839783459901809\n",
            "[Feature Array] Epoch 7, Validation Loss: 0.6636769461631775\n",
            "[Feature Array] Epoch 7, Accuracy: 0.747\n",
            "[Feature Array] Epoch 8, Training Loss: 0.6696168798208236\n",
            "[Feature Array] Epoch 8, Validation Loss: 0.6561091661453247\n",
            "[Feature Array] Epoch 8, Accuracy: 0.7475\n",
            "[Feature Array] Epoch 9, Training Loss: 0.6709233483672142\n",
            "[Feature Array] Epoch 9, Validation Loss: 0.6444965076446533\n",
            "[Feature Array] Epoch 9, Accuracy: 0.7495\n",
            "[Feature Array] Epoch 10, Training Loss: 0.6421893957257271\n",
            "[Feature Array] Epoch 10, Validation Loss: 0.6233050036430359\n",
            "[Feature Array] Epoch 10, Accuracy: 0.753\n",
            "[Feature Array] Epoch 11, Training Loss: 0.6312234285473823\n",
            "[Feature Array] Epoch 11, Validation Loss: 0.6958230304718017\n",
            "EarlyStopping counter: 1 out of 5\n",
            "[Feature Array] Epoch 11, Accuracy: 0.7305\n",
            "[Feature Array] Epoch 12, Training Loss: 0.6303332808613777\n",
            "[Feature Array] Epoch 12, Validation Loss: 0.6170718216896057\n",
            "[Feature Array] Epoch 12, Accuracy: 0.7625\n",
            "[Feature Array] Epoch 13, Training Loss: 0.6102733284235\n",
            "[Feature Array] Epoch 13, Validation Loss: 0.6646476793289184\n",
            "EarlyStopping counter: 1 out of 5\n",
            "[Feature Array] Epoch 13, Accuracy: 0.748\n",
            "[Feature Array] Epoch 14, Training Loss: 0.6214188235998154\n",
            "[Feature Array] Epoch 14, Validation Loss: 0.6237343442440033\n",
            "EarlyStopping counter: 2 out of 5\n",
            "[Feature Array] Epoch 14, Accuracy: 0.7595\n",
            "[Feature Array] Epoch 15, Training Loss: 0.6027029827237129\n",
            "[Feature Array] Epoch 15, Validation Loss: 0.6795101809501648\n",
            "EarlyStopping counter: 3 out of 5\n",
            "[Feature Array] Epoch 15, Accuracy: 0.75\n",
            "[Feature Array] Epoch 16, Training Loss: 0.6012789830565453\n",
            "[Feature Array] Epoch 16, Validation Loss: 0.6525805699825287\n",
            "EarlyStopping counter: 4 out of 5\n",
            "[Feature Array] Epoch 16, Accuracy: 0.7705\n",
            "[Feature Array] Epoch 17, Training Loss: 0.5967186486721039\n",
            "[Feature Array] Epoch 17, Validation Loss: 0.5945487225055694\n",
            "[Feature Array] Epoch 17, Accuracy: 0.778\n",
            "[Feature Array] Epoch 18, Training Loss: 0.5889831709861756\n",
            "[Feature Array] Epoch 18, Validation Loss: 0.6351211249828339\n",
            "EarlyStopping counter: 1 out of 5\n",
            "[Feature Array] Epoch 18, Accuracy: 0.7425\n",
            "[Feature Array] Epoch 19, Training Loss: 0.5815647462010384\n",
            "[Feature Array] Epoch 19, Validation Loss: 0.5801947104930878\n",
            "[Feature Array] Epoch 19, Accuracy: 0.7815\n",
            "[Feature Array] Epoch 20, Training Loss: 0.5775212651491165\n",
            "[Feature Array] Epoch 20, Validation Loss: 0.6042273914813996\n",
            "EarlyStopping counter: 1 out of 5\n",
            "[Feature Array] Epoch 20, Accuracy: 0.775\n",
            "[Feature Array] Epoch 21, Training Loss: 0.5640435805916786\n",
            "[Feature Array] Epoch 21, Validation Loss: 0.5872813236713409\n",
            "EarlyStopping counter: 2 out of 5\n",
            "[Feature Array] Epoch 21, Accuracy: 0.785\n",
            "[Feature Array] Epoch 22, Training Loss: 0.5579339888691902\n",
            "[Feature Array] Epoch 22, Validation Loss: 0.5964021563529969\n",
            "EarlyStopping counter: 3 out of 5\n",
            "[Feature Array] Epoch 22, Accuracy: 0.796\n",
            "[Feature Array] Epoch 23, Training Loss: 0.5671966710686683\n",
            "[Feature Array] Epoch 23, Validation Loss: 0.5736594700813293\n",
            "[Feature Array] Epoch 23, Accuracy: 0.7825\n",
            "[Feature Array] Epoch 24, Training Loss: 0.551069256067276\n",
            "[Feature Array] Epoch 24, Validation Loss: 0.5945790135860443\n",
            "EarlyStopping counter: 1 out of 5\n",
            "[Feature Array] Epoch 24, Accuracy: 0.7835\n",
            "[Feature Array] Epoch 25, Training Loss: 0.5498718595504761\n",
            "[Feature Array] Epoch 25, Validation Loss: 0.5521000385284424\n",
            "[Feature Array] Epoch 25, Accuracy: 0.8015\n",
            "[Feature Array] Epoch 26, Training Loss: 0.5344456255435943\n",
            "[Feature Array] Epoch 26, Validation Loss: 0.5561245548725128\n",
            "EarlyStopping counter: 1 out of 5\n",
            "[Feature Array] Epoch 26, Accuracy: 0.805\n",
            "[Feature Array] Epoch 27, Training Loss: 0.5300375357270241\n",
            "[Feature Array] Epoch 27, Validation Loss: 0.557728933095932\n",
            "EarlyStopping counter: 2 out of 5\n",
            "[Feature Array] Epoch 27, Accuracy: 0.8\n",
            "[Feature Array] Epoch 28, Training Loss: 0.5296459186077118\n",
            "[Feature Array] Epoch 28, Validation Loss: 0.5432752275466919\n",
            "[Feature Array] Epoch 28, Accuracy: 0.8095\n",
            "[Feature Array] Epoch 29, Training Loss: 0.5237486276030541\n",
            "[Feature Array] Epoch 29, Validation Loss: 0.5444684004783631\n",
            "EarlyStopping counter: 1 out of 5\n",
            "[Feature Array] Epoch 29, Accuracy: 0.806\n",
            "[Feature Array] Epoch 30, Training Loss: 0.5134822061657905\n",
            "[Feature Array] Epoch 30, Validation Loss: 0.5561190819740296\n",
            "EarlyStopping counter: 2 out of 5\n",
            "[Feature Array] Epoch 30, Accuracy: 0.8\n",
            "\n",
            "Training model with: Word Vector Array\n",
            "\n"
          ]
        },
        {
          "output_type": "stream",
          "name": "stderr",
          "text": [
            "<ipython-input-55-c6d26853de71>:14: UserWarning: To copy construct from a tensor, it is recommended to use sourceTensor.clone().detach() or sourceTensor.clone().detach().requires_grad_(True), rather than torch.tensor(sourceTensor).\n",
            "  features_train = torch.tensor(features_train, dtype=torch.float32)\n",
            "<ipython-input-55-c6d26853de71>:16: UserWarning: To copy construct from a tensor, it is recommended to use sourceTensor.clone().detach() or sourceTensor.clone().detach().requires_grad_(True), rather than torch.tensor(sourceTensor).\n",
            "  features_val = torch.tensor(features_val, dtype=torch.float32)\n",
            "<ipython-input-55-c6d26853de71>:18: UserWarning: To copy construct from a tensor, it is recommended to use sourceTensor.clone().detach() or sourceTensor.clone().detach().requires_grad_(True), rather than torch.tensor(sourceTensor).\n",
            "  features_test = torch.tensor(features_test, dtype=torch.float32)\n"
          ]
        },
        {
          "output_type": "stream",
          "name": "stdout",
          "text": [
            "[Word Vector Array] Epoch 1, Training Loss: 0.9923730385303497\n",
            "[Word Vector Array] Epoch 1, Validation Loss: 0.692760682106018\n",
            "[Word Vector Array] Epoch 1, Accuracy: 0.7385\n",
            "[Word Vector Array] Epoch 2, Training Loss: 0.7486519330739975\n",
            "[Word Vector Array] Epoch 2, Validation Loss: 0.6309341478347779\n",
            "[Word Vector Array] Epoch 2, Accuracy: 0.7585\n",
            "[Word Vector Array] Epoch 3, Training Loss: 0.7107344079017639\n",
            "[Word Vector Array] Epoch 3, Validation Loss: 0.6225716865062714\n",
            "[Word Vector Array] Epoch 3, Accuracy: 0.7655\n",
            "[Word Vector Array] Epoch 4, Training Loss: 0.6792718741297722\n",
            "[Word Vector Array] Epoch 4, Validation Loss: 0.5941894721984863\n",
            "[Word Vector Array] Epoch 4, Accuracy: 0.77\n",
            "[Word Vector Array] Epoch 5, Training Loss: 0.657306857407093\n",
            "[Word Vector Array] Epoch 5, Validation Loss: 0.6311184012889862\n",
            "EarlyStopping counter: 1 out of 5\n",
            "[Word Vector Array] Epoch 5, Accuracy: 0.7635\n",
            "[Word Vector Array] Epoch 6, Training Loss: 0.651462790966034\n",
            "[Word Vector Array] Epoch 6, Validation Loss: 0.5828741371631623\n",
            "[Word Vector Array] Epoch 6, Accuracy: 0.7895\n",
            "[Word Vector Array] Epoch 7, Training Loss: 0.627949740588665\n",
            "[Word Vector Array] Epoch 7, Validation Loss: 0.5933940732479095\n",
            "EarlyStopping counter: 1 out of 5\n",
            "[Word Vector Array] Epoch 7, Accuracy: 0.7765\n",
            "[Word Vector Array] Epoch 8, Training Loss: 0.6176352649927139\n",
            "[Word Vector Array] Epoch 8, Validation Loss: 0.5504449093341828\n",
            "[Word Vector Array] Epoch 8, Accuracy: 0.792\n",
            "[Word Vector Array] Epoch 9, Training Loss: 0.6060781988501549\n",
            "[Word Vector Array] Epoch 9, Validation Loss: 0.5646835696697236\n",
            "EarlyStopping counter: 1 out of 5\n",
            "[Word Vector Array] Epoch 9, Accuracy: 0.7975\n",
            "[Word Vector Array] Epoch 10, Training Loss: 0.5961883118748665\n",
            "[Word Vector Array] Epoch 10, Validation Loss: 0.5669603955745697\n",
            "EarlyStopping counter: 2 out of 5\n",
            "[Word Vector Array] Epoch 10, Accuracy: 0.783\n",
            "[Word Vector Array] Epoch 11, Training Loss: 0.5826418414711952\n",
            "[Word Vector Array] Epoch 11, Validation Loss: 0.5443373048305511\n",
            "[Word Vector Array] Epoch 11, Accuracy: 0.796\n",
            "[Word Vector Array] Epoch 12, Training Loss: 0.5838639608025551\n",
            "[Word Vector Array] Epoch 12, Validation Loss: 0.5397886574268341\n",
            "[Word Vector Array] Epoch 12, Accuracy: 0.792\n",
            "[Word Vector Array] Epoch 13, Training Loss: 0.579672381579876\n",
            "[Word Vector Array] Epoch 13, Validation Loss: 0.5583143579959869\n",
            "EarlyStopping counter: 1 out of 5\n",
            "[Word Vector Array] Epoch 13, Accuracy: 0.783\n",
            "[Word Vector Array] Epoch 14, Training Loss: 0.5756539070606231\n",
            "[Word Vector Array] Epoch 14, Validation Loss: 0.5389960849285126\n",
            "[Word Vector Array] Epoch 14, Accuracy: 0.807\n",
            "[Word Vector Array] Epoch 15, Training Loss: 0.5571673288941383\n",
            "[Word Vector Array] Epoch 15, Validation Loss: 0.5494945120811462\n",
            "EarlyStopping counter: 1 out of 5\n",
            "[Word Vector Array] Epoch 15, Accuracy: 0.8045\n",
            "[Word Vector Array] Epoch 16, Training Loss: 0.5532337376475334\n",
            "[Word Vector Array] Epoch 16, Validation Loss: 0.5303562128543854\n",
            "[Word Vector Array] Epoch 16, Accuracy: 0.803\n",
            "[Word Vector Array] Epoch 17, Training Loss: 0.5518414860963822\n",
            "[Word Vector Array] Epoch 17, Validation Loss: 0.5281311631202698\n",
            "[Word Vector Array] Epoch 17, Accuracy: 0.796\n",
            "[Word Vector Array] Epoch 18, Training Loss: 0.5322168907523155\n",
            "[Word Vector Array] Epoch 18, Validation Loss: 0.5280068743228913\n",
            "[Word Vector Array] Epoch 18, Accuracy: 0.8005\n",
            "[Word Vector Array] Epoch 19, Training Loss: 0.5475585463643075\n",
            "[Word Vector Array] Epoch 19, Validation Loss: 0.5138504338264466\n",
            "[Word Vector Array] Epoch 19, Accuracy: 0.8075\n",
            "[Word Vector Array] Epoch 20, Training Loss: 0.5242892810702324\n",
            "[Word Vector Array] Epoch 20, Validation Loss: 0.5117739844322204\n",
            "[Word Vector Array] Epoch 20, Accuracy: 0.8055\n",
            "[Word Vector Array] Epoch 21, Training Loss: 0.5274979940056801\n",
            "[Word Vector Array] Epoch 21, Validation Loss: 0.5153413701057434\n",
            "EarlyStopping counter: 1 out of 5\n",
            "[Word Vector Array] Epoch 21, Accuracy: 0.802\n",
            "[Word Vector Array] Epoch 22, Training Loss: 0.5213608330488205\n",
            "[Word Vector Array] Epoch 22, Validation Loss: 0.5593783318996429\n",
            "EarlyStopping counter: 2 out of 5\n",
            "[Word Vector Array] Epoch 22, Accuracy: 0.8005\n",
            "[Word Vector Array] Epoch 23, Training Loss: 0.5291442716121674\n",
            "[Word Vector Array] Epoch 23, Validation Loss: 0.5181534600257873\n",
            "EarlyStopping counter: 3 out of 5\n",
            "[Word Vector Array] Epoch 23, Accuracy: 0.801\n",
            "[Word Vector Array] Epoch 24, Training Loss: 0.5018666326999665\n",
            "[Word Vector Array] Epoch 24, Validation Loss: 0.5230666029453278\n",
            "EarlyStopping counter: 4 out of 5\n",
            "[Word Vector Array] Epoch 24, Accuracy: 0.808\n",
            "[Word Vector Array] Epoch 25, Training Loss: 0.5013335320353508\n",
            "[Word Vector Array] Epoch 25, Validation Loss: 0.5172013020515442\n",
            "EarlyStopping counter: 5 out of 5\n",
            "Early stopping\n",
            "\n",
            "Training model with: Merged Array\n",
            "\n",
            "[Merged Array] Epoch 1, Training Loss: 1.0068134236335755\n",
            "[Merged Array] Epoch 1, Validation Loss: 0.6287131583690644\n",
            "[Merged Array] Epoch 1, Accuracy: 0.7655\n",
            "[Merged Array] Epoch 2, Training Loss: 0.6478931638598442\n",
            "[Merged Array] Epoch 2, Validation Loss: 0.49442177295684814\n",
            "[Merged Array] Epoch 2, Accuracy: 0.8195\n",
            "[Merged Array] Epoch 3, Training Loss: 0.5724186134338379\n",
            "[Merged Array] Epoch 3, Validation Loss: 0.502471125125885\n",
            "EarlyStopping counter: 1 out of 5\n",
            "[Merged Array] Epoch 3, Accuracy: 0.8185\n",
            "[Merged Array] Epoch 4, Training Loss: 0.5483896180987358\n",
            "[Merged Array] Epoch 4, Validation Loss: 0.44646957755088806\n",
            "[Merged Array] Epoch 4, Accuracy: 0.839\n",
            "[Merged Array] Epoch 5, Training Loss: 0.52221519947052\n",
            "[Merged Array] Epoch 5, Validation Loss: 0.45871873617172243\n",
            "EarlyStopping counter: 1 out of 5\n",
            "[Merged Array] Epoch 5, Accuracy: 0.825\n",
            "[Merged Array] Epoch 6, Training Loss: 0.49641540825366975\n",
            "[Merged Array] Epoch 6, Validation Loss: 0.4392282259464264\n",
            "[Merged Array] Epoch 6, Accuracy: 0.8435\n",
            "[Merged Array] Epoch 7, Training Loss: 0.48023644626140594\n",
            "[Merged Array] Epoch 7, Validation Loss: 0.3976273262500763\n",
            "[Merged Array] Epoch 7, Accuracy: 0.8645\n",
            "[Merged Array] Epoch 8, Training Loss: 0.4860885702073574\n",
            "[Merged Array] Epoch 8, Validation Loss: 0.39738229870796205\n",
            "[Merged Array] Epoch 8, Accuracy: 0.8615\n",
            "[Merged Array] Epoch 9, Training Loss: 0.47365502774715423\n",
            "[Merged Array] Epoch 9, Validation Loss: 0.38344968676567076\n",
            "[Merged Array] Epoch 9, Accuracy: 0.8655\n",
            "[Merged Array] Epoch 10, Training Loss: 0.45085459351539614\n",
            "[Merged Array] Epoch 10, Validation Loss: 0.38916099309921265\n",
            "EarlyStopping counter: 1 out of 5\n",
            "[Merged Array] Epoch 10, Accuracy: 0.8615\n",
            "[Merged Array] Epoch 11, Training Loss: 0.44106284469366075\n",
            "[Merged Array] Epoch 11, Validation Loss: 0.36619964003562927\n",
            "[Merged Array] Epoch 11, Accuracy: 0.8685\n",
            "[Merged Array] Epoch 12, Training Loss: 0.44131421178579333\n",
            "[Merged Array] Epoch 12, Validation Loss: 0.3765132701396942\n",
            "EarlyStopping counter: 1 out of 5\n",
            "[Merged Array] Epoch 12, Accuracy: 0.865\n",
            "[Merged Array] Epoch 13, Training Loss: 0.43679504603147506\n",
            "[Merged Array] Epoch 13, Validation Loss: 0.3671630519628525\n",
            "EarlyStopping counter: 2 out of 5\n",
            "[Merged Array] Epoch 13, Accuracy: 0.864\n",
            "[Merged Array] Epoch 14, Training Loss: 0.42380934044718743\n",
            "[Merged Array] Epoch 14, Validation Loss: 0.3545022696256638\n",
            "[Merged Array] Epoch 14, Accuracy: 0.873\n",
            "[Merged Array] Epoch 15, Training Loss: 0.4055950087308884\n",
            "[Merged Array] Epoch 15, Validation Loss: 0.36146496295928954\n",
            "EarlyStopping counter: 1 out of 5\n",
            "[Merged Array] Epoch 15, Accuracy: 0.8725\n",
            "[Merged Array] Epoch 16, Training Loss: 0.40591454759240153\n",
            "[Merged Array] Epoch 16, Validation Loss: 0.36267286658287046\n",
            "EarlyStopping counter: 2 out of 5\n",
            "[Merged Array] Epoch 16, Accuracy: 0.8745\n",
            "[Merged Array] Epoch 17, Training Loss: 0.4037381722033024\n",
            "[Merged Array] Epoch 17, Validation Loss: 0.3574347996711731\n",
            "EarlyStopping counter: 3 out of 5\n",
            "[Merged Array] Epoch 17, Accuracy: 0.873\n",
            "[Merged Array] Epoch 18, Training Loss: 0.4062603820860386\n",
            "[Merged Array] Epoch 18, Validation Loss: 0.345406152009964\n",
            "[Merged Array] Epoch 18, Accuracy: 0.875\n",
            "[Merged Array] Epoch 19, Training Loss: 0.38884042531251906\n",
            "[Merged Array] Epoch 19, Validation Loss: 0.3800973290205002\n",
            "EarlyStopping counter: 1 out of 5\n",
            "[Merged Array] Epoch 19, Accuracy: 0.866\n",
            "[Merged Array] Epoch 20, Training Loss: 0.38257082909345624\n",
            "[Merged Array] Epoch 20, Validation Loss: 0.357211235165596\n",
            "EarlyStopping counter: 2 out of 5\n",
            "[Merged Array] Epoch 20, Accuracy: 0.868\n",
            "[Merged Array] Epoch 21, Training Loss: 0.373059946000576\n",
            "[Merged Array] Epoch 21, Validation Loss: 0.32614398419857027\n",
            "[Merged Array] Epoch 21, Accuracy: 0.885\n",
            "[Merged Array] Epoch 22, Training Loss: 0.3830521112680435\n",
            "[Merged Array] Epoch 22, Validation Loss: 0.3636476343870163\n",
            "EarlyStopping counter: 1 out of 5\n",
            "[Merged Array] Epoch 22, Accuracy: 0.8735\n",
            "[Merged Array] Epoch 23, Training Loss: 0.37476340249180795\n",
            "[Merged Array] Epoch 23, Validation Loss: 0.3380239772796631\n",
            "EarlyStopping counter: 2 out of 5\n",
            "[Merged Array] Epoch 23, Accuracy: 0.8845\n",
            "[Merged Array] Epoch 24, Training Loss: 0.37879063859581946\n",
            "[Merged Array] Epoch 24, Validation Loss: 0.32742679476737974\n",
            "EarlyStopping counter: 3 out of 5\n",
            "[Merged Array] Epoch 24, Accuracy: 0.886\n",
            "[Merged Array] Epoch 25, Training Loss: 0.3655685795843601\n",
            "[Merged Array] Epoch 25, Validation Loss: 0.31331444919109347\n",
            "[Merged Array] Epoch 25, Accuracy: 0.8845\n",
            "[Merged Array] Epoch 26, Training Loss: 0.3674309353530407\n",
            "[Merged Array] Epoch 26, Validation Loss: 0.3581837755441666\n",
            "EarlyStopping counter: 1 out of 5\n",
            "[Merged Array] Epoch 26, Accuracy: 0.875\n",
            "[Merged Array] Epoch 27, Training Loss: 0.361420102417469\n",
            "[Merged Array] Epoch 27, Validation Loss: 0.35701857388019564\n",
            "EarlyStopping counter: 2 out of 5\n",
            "[Merged Array] Epoch 27, Accuracy: 0.873\n",
            "[Merged Array] Epoch 28, Training Loss: 0.367779965698719\n",
            "[Merged Array] Epoch 28, Validation Loss: 0.3177706480026245\n",
            "EarlyStopping counter: 3 out of 5\n",
            "[Merged Array] Epoch 28, Accuracy: 0.892\n",
            "[Merged Array] Epoch 29, Training Loss: 0.35318354696035387\n",
            "[Merged Array] Epoch 29, Validation Loss: 0.3133141577243805\n",
            "[Merged Array] Epoch 29, Accuracy: 0.8865\n",
            "[Merged Array] Epoch 30, Training Loss: 0.34702384784817697\n",
            "[Merged Array] Epoch 30, Validation Loss: 0.32594907939434054\n",
            "EarlyStopping counter: 1 out of 5\n",
            "[Merged Array] Epoch 30, Accuracy: 0.89\n",
            "Finished Training\n"
          ]
        }
      ]
    },
    {
      "cell_type": "code",
      "source": [
        "for arr in [\"WtoF\",\"FtoW\"]:\n",
        "\n",
        "  if arr == \"WtoF\":\n",
        "    mymodels[1].eval()\n",
        "    res = mymodels[1](torch.tensor(word_vector_array, dtype=torch.float32).to(device))\n",
        "    combined_array = np.concatenate([feature_array, res.cpu().detach().numpy()], axis=1)\n",
        "  else:\n",
        "    mymodels[0].eval()\n",
        "    res = mymodels[0](torch.tensor(feature_array, dtype=torch.float32).to(device))\n",
        "    combined_array = np.concatenate([word_vector_array, res.cpu().detach().numpy()], axis=1)\n",
        "\n",
        "  early_stopping = EarlyStopping(patience=5, verbose=True)\n",
        "  print(f\"\\nTraining model with: {feature_name}\\n\")\n",
        "  features_train, features_test, labels_train, labels_test = train_test_split(combined_array, target.values, test_size=0.2, random_state=42)\n",
        "  features_train, features_val, labels_train, labels_val = train_test_split(features_train, labels_train, test_size=0.2, random_state=42)\n",
        "\n",
        "  # numpy轉換tensors\n",
        "  features_train = torch.tensor(features_train, dtype=torch.float32)\n",
        "  labels_train = torch.tensor(labels_train, dtype=torch.float32)\n",
        "  features_val = torch.tensor(features_val, dtype=torch.float32)\n",
        "  labels_val = torch.tensor(labels_val, dtype=torch.float32)\n",
        "  features_test = torch.tensor(features_test, dtype=torch.float32)\n",
        "  labels_test = torch.tensor(labels_test, dtype=torch.float32)\n",
        "\n",
        "  train_dataset = TensorDataset(features_train, labels_train)\n",
        "  val_dataset = TensorDataset(features_val, labels_val)\n",
        "  test_dataset = TensorDataset(features_test, labels_test)\n",
        "\n",
        "  batch_size = 64\n",
        "  train_dataloader = DataLoader(train_dataset, batch_size=batch_size, shuffle=True)\n",
        "  test_dataloader = DataLoader(test_dataset, batch_size=batch_size, shuffle=False)\n",
        "  val_dataloader = DataLoader(val_dataset, batch_size=batch_size, shuffle=False)\n",
        "\n",
        "  net = FeatureNet(len(combined_array[0])).to(device)\n",
        "  criterion = nn.NLLLoss()\n",
        "  optimizer = optim.Adam(net.parameters())\n",
        "\n",
        "  losses = []\n",
        "  accuracies = []\n",
        "  Epoch = 30\n",
        "  for epoch in range(Epoch):\n",
        "    running_loss = 0.0\n",
        "    for i, data in enumerate(train_dataloader):\n",
        "      inputs, labels = data\n",
        "      inputs = inputs.to(device)\n",
        "      labels = labels.argmax(dim=1).to(device)\n",
        "      outputs = net(inputs)\n",
        "\n",
        "      optimizer.zero_grad()\n",
        "      loss = criterion(outputs, labels)\n",
        "      loss.backward()\n",
        "      optimizer.step()\n",
        "\n",
        "      running_loss += loss.item()\n",
        "    avg_train_loss = running_loss / len(train_dataloader)\n",
        "    losses.append(avg_train_loss)\n",
        "    print(f'[{feature_name}] Epoch {epoch + 1}, Training Loss: {avg_train_loss}')\n",
        "\n",
        "    # Validation step\n",
        "    running_loss = 0.0\n",
        "    net.eval()  # Set the model to evaluation mode\n",
        "    with torch.no_grad():\n",
        "        for i, data in enumerate(val_dataloader):\n",
        "            inputs, labels = data\n",
        "            inputs = inputs.to(device)\n",
        "            labels = labels.argmax(dim=1).to(device)\n",
        "            outputs = net(inputs)\n",
        "            loss = criterion(outputs, labels)\n",
        "\n",
        "            running_loss += loss.item()\n",
        "\n",
        "    avg_val_loss = running_loss / len(val_dataloader)\n",
        "    print(f'[{feature_name}] Epoch {epoch + 1}, Validation Loss: {avg_val_loss}')\n",
        "    # Check early stopping\n",
        "    early_stopping(avg_val_loss)\n",
        "    if early_stopping.early_stop:\n",
        "        print(\"Early stopping\")\n",
        "        break\n",
        "\n",
        "    # Test the model\n",
        "    net.eval()  # It's important to set the model to evaluation mode\n",
        "    correct = 0\n",
        "    total = 0\n",
        "    with torch.no_grad():\n",
        "      for data in test_dataloader:\n",
        "        inputs, labels = data\n",
        "        inputs = inputs.to(device)\n",
        "        labels = labels.argmax(dim=1).to(device)\n",
        "        outputs = net(inputs)\n",
        "        _, predicted = torch.max(outputs.data, 1)\n",
        "        total += labels.size(0)\n",
        "        correct += (predicted == labels).sum().item()\n",
        "\n",
        "    accuracy = correct / total\n",
        "    accuracies.append(accuracy)\n",
        "    print(f'[Epoch {epoch + 1}, Accuracy: {accuracy}')\n",
        "\n",
        "    net.train()  # Reset the model to training mode\n",
        "  loss_results[f\"Conbined array {arr}\"] = losses\n",
        "  accuracy_results[f\"Conbined array {arr}\"] = accuracies"
      ],
      "metadata": {
        "id": "OY3sMpI9RvyB",
        "outputId": "4af4da87-50f5-44f4-cd21-a9c080028d98",
        "colab": {
          "base_uri": "https://localhost:8080/"
        }
      },
      "execution_count": null,
      "outputs": [
        {
          "output_type": "stream",
          "name": "stdout",
          "text": [
            "\n",
            "Training model with: Merged Array\n",
            "\n"
          ]
        },
        {
          "output_type": "stream",
          "name": "stderr",
          "text": [
            "<ipython-input-56-f2aa713d4d2d>:5: UserWarning: To copy construct from a tensor, it is recommended to use sourceTensor.clone().detach() or sourceTensor.clone().detach().requires_grad_(True), rather than torch.tensor(sourceTensor).\n",
            "  res = mymodels[1](torch.tensor(word_vector_array, dtype=torch.float32).to(device))\n"
          ]
        },
        {
          "output_type": "stream",
          "name": "stdout",
          "text": [
            "[Merged Array] Epoch 1, Training Loss: 0.6964424583315849\n",
            "[Merged Array] Epoch 1, Validation Loss: 0.5489151620864868\n",
            "[Epoch 1, Accuracy: 0.815\n",
            "[Merged Array] Epoch 2, Training Loss: 0.3911683538556099\n",
            "[Merged Array] Epoch 2, Validation Loss: 0.4833120608329773\n",
            "[Epoch 2, Accuracy: 0.837\n",
            "[Merged Array] Epoch 3, Training Loss: 0.3647830870747566\n",
            "[Merged Array] Epoch 3, Validation Loss: 0.5051874494552613\n",
            "EarlyStopping counter: 1 out of 5\n",
            "[Epoch 3, Accuracy: 0.8265\n",
            "[Merged Array] Epoch 4, Training Loss: 0.35977101534605027\n",
            "[Merged Array] Epoch 4, Validation Loss: 0.48095253586769104\n",
            "[Epoch 4, Accuracy: 0.8365\n",
            "[Merged Array] Epoch 5, Training Loss: 0.3410540649294853\n",
            "[Merged Array] Epoch 5, Validation Loss: 0.4789123737812042\n",
            "[Epoch 5, Accuracy: 0.8435\n",
            "[Merged Array] Epoch 6, Training Loss: 0.3257999131083488\n",
            "[Merged Array] Epoch 6, Validation Loss: 0.455962051153183\n",
            "[Epoch 6, Accuracy: 0.851\n",
            "[Merged Array] Epoch 7, Training Loss: 0.31504005670547486\n",
            "[Merged Array] Epoch 7, Validation Loss: 0.42657523334026337\n",
            "[Epoch 7, Accuracy: 0.8475\n",
            "[Merged Array] Epoch 8, Training Loss: 0.3141423899680376\n",
            "[Merged Array] Epoch 8, Validation Loss: 0.5114471209049225\n",
            "EarlyStopping counter: 1 out of 5\n",
            "[Epoch 8, Accuracy: 0.8285\n",
            "[Merged Array] Epoch 9, Training Loss: 0.3207616265118122\n",
            "[Merged Array] Epoch 9, Validation Loss: 0.41220423102378845\n",
            "[Epoch 9, Accuracy: 0.8505\n",
            "[Merged Array] Epoch 10, Training Loss: 0.30104332864284516\n",
            "[Merged Array] Epoch 10, Validation Loss: 0.4077451366186142\n",
            "[Epoch 10, Accuracy: 0.8605\n",
            "[Merged Array] Epoch 11, Training Loss: 0.2996564192324877\n",
            "[Merged Array] Epoch 11, Validation Loss: 0.4135670506954193\n",
            "EarlyStopping counter: 1 out of 5\n",
            "[Epoch 11, Accuracy: 0.855\n",
            "[Merged Array] Epoch 12, Training Loss: 0.2910896648466587\n",
            "[Merged Array] Epoch 12, Validation Loss: 0.38730292558670043\n",
            "[Epoch 12, Accuracy: 0.8705\n",
            "[Merged Array] Epoch 13, Training Loss: 0.2873201958090067\n",
            "[Merged Array] Epoch 13, Validation Loss: 0.38541938483715055\n",
            "[Epoch 13, Accuracy: 0.863\n",
            "[Merged Array] Epoch 14, Training Loss: 0.2996220077574253\n",
            "[Merged Array] Epoch 14, Validation Loss: 0.3861482787132263\n",
            "EarlyStopping counter: 1 out of 5\n",
            "[Epoch 14, Accuracy: 0.868\n",
            "[Merged Array] Epoch 15, Training Loss: 0.28022257551550867\n",
            "[Merged Array] Epoch 15, Validation Loss: 0.3817888534069061\n",
            "[Epoch 15, Accuracy: 0.8715\n",
            "[Merged Array] Epoch 16, Training Loss: 0.28770869091153145\n",
            "[Merged Array] Epoch 16, Validation Loss: 0.38631600618362427\n",
            "EarlyStopping counter: 1 out of 5\n",
            "[Epoch 16, Accuracy: 0.872\n",
            "[Merged Array] Epoch 17, Training Loss: 0.27147226996719837\n",
            "[Merged Array] Epoch 17, Validation Loss: 0.37741217195987703\n",
            "[Epoch 17, Accuracy: 0.873\n",
            "[Merged Array] Epoch 18, Training Loss: 0.2705774685740471\n",
            "[Merged Array] Epoch 18, Validation Loss: 0.45013259768486025\n",
            "EarlyStopping counter: 1 out of 5\n",
            "[Epoch 18, Accuracy: 0.8535\n",
            "[Merged Array] Epoch 19, Training Loss: 0.2705003101378679\n",
            "[Merged Array] Epoch 19, Validation Loss: 0.3610720527172089\n",
            "[Epoch 19, Accuracy: 0.882\n",
            "[Merged Array] Epoch 20, Training Loss: 0.2676584440469742\n",
            "[Merged Array] Epoch 20, Validation Loss: 0.36989049434661864\n",
            "EarlyStopping counter: 1 out of 5\n",
            "[Epoch 20, Accuracy: 0.881\n",
            "[Merged Array] Epoch 21, Training Loss: 0.2629321797192097\n",
            "[Merged Array] Epoch 21, Validation Loss: 0.36417704045772553\n",
            "EarlyStopping counter: 2 out of 5\n",
            "[Epoch 21, Accuracy: 0.8845\n",
            "[Merged Array] Epoch 22, Training Loss: 0.2550080642849207\n",
            "[Merged Array] Epoch 22, Validation Loss: 0.36222038090229036\n",
            "EarlyStopping counter: 3 out of 5\n",
            "[Epoch 22, Accuracy: 0.8785\n",
            "[Merged Array] Epoch 23, Training Loss: 0.2559640245884657\n",
            "[Merged Array] Epoch 23, Validation Loss: 0.3567132419347763\n",
            "[Epoch 23, Accuracy: 0.8845\n",
            "[Merged Array] Epoch 24, Training Loss: 0.25597922161221504\n",
            "[Merged Array] Epoch 24, Validation Loss: 0.37580264449119566\n",
            "EarlyStopping counter: 1 out of 5\n",
            "[Epoch 24, Accuracy: 0.8735\n",
            "[Merged Array] Epoch 25, Training Loss: 0.2520389213413\n",
            "[Merged Array] Epoch 25, Validation Loss: 0.3541276502609253\n",
            "[Epoch 25, Accuracy: 0.883\n",
            "[Merged Array] Epoch 26, Training Loss: 0.2510506463050842\n",
            "[Merged Array] Epoch 26, Validation Loss: 0.3667830002307892\n",
            "EarlyStopping counter: 1 out of 5\n",
            "[Epoch 26, Accuracy: 0.882\n",
            "[Merged Array] Epoch 27, Training Loss: 0.24606216736137868\n",
            "[Merged Array] Epoch 27, Validation Loss: 0.3479971843957901\n",
            "[Epoch 27, Accuracy: 0.8865\n",
            "[Merged Array] Epoch 28, Training Loss: 0.24578270129859447\n",
            "[Merged Array] Epoch 28, Validation Loss: 0.3486128687858582\n",
            "EarlyStopping counter: 1 out of 5\n",
            "[Epoch 28, Accuracy: 0.881\n",
            "[Merged Array] Epoch 29, Training Loss: 0.24718802161514758\n",
            "[Merged Array] Epoch 29, Validation Loss: 0.38065253794193266\n",
            "EarlyStopping counter: 2 out of 5\n",
            "[Epoch 29, Accuracy: 0.8795\n",
            "[Merged Array] Epoch 30, Training Loss: 0.24109845496714116\n",
            "[Merged Array] Epoch 30, Validation Loss: 0.34103031873703005\n",
            "[Epoch 30, Accuracy: 0.8905\n",
            "\n",
            "Training model with: Merged Array\n",
            "\n",
            "[Merged Array] Epoch 1, Training Loss: 0.6548715993762017\n",
            "[Merged Array] Epoch 1, Validation Loss: 0.4844343817234039\n",
            "[Epoch 1, Accuracy: 0.826\n",
            "[Merged Array] Epoch 2, Training Loss: 0.4739643660187721\n",
            "[Merged Array] Epoch 2, Validation Loss: 0.4746234965324402\n",
            "[Epoch 2, Accuracy: 0.8325\n",
            "[Merged Array] Epoch 3, Training Loss: 0.43813223838806153\n",
            "[Merged Array] Epoch 3, Validation Loss: 0.44880838751792906\n",
            "[Epoch 3, Accuracy: 0.8405\n",
            "[Merged Array] Epoch 4, Training Loss: 0.42851067930459974\n",
            "[Merged Array] Epoch 4, Validation Loss: 0.42543148159980776\n",
            "[Epoch 4, Accuracy: 0.847\n",
            "[Merged Array] Epoch 5, Training Loss: 0.41051131710410116\n",
            "[Merged Array] Epoch 5, Validation Loss: 0.4182300019264221\n",
            "[Epoch 5, Accuracy: 0.852\n",
            "[Merged Array] Epoch 6, Training Loss: 0.40171299800276755\n",
            "[Merged Array] Epoch 6, Validation Loss: 0.42631735682487487\n",
            "EarlyStopping counter: 1 out of 5\n",
            "[Epoch 6, Accuracy: 0.8475\n",
            "[Merged Array] Epoch 7, Training Loss: 0.3996050800383091\n",
            "[Merged Array] Epoch 7, Validation Loss: 0.4108414399623871\n",
            "[Epoch 7, Accuracy: 0.8585\n",
            "[Merged Array] Epoch 8, Training Loss: 0.387328866571188\n",
            "[Merged Array] Epoch 8, Validation Loss: 0.43617409348487857\n",
            "EarlyStopping counter: 1 out of 5\n",
            "[Epoch 8, Accuracy: 0.8455\n",
            "[Merged Array] Epoch 9, Training Loss: 0.3801140758395195\n",
            "[Merged Array] Epoch 9, Validation Loss: 0.39712077140808105\n",
            "[Epoch 9, Accuracy: 0.861\n",
            "[Merged Array] Epoch 10, Training Loss: 0.3682598081231117\n",
            "[Merged Array] Epoch 10, Validation Loss: 0.4057058781385422\n",
            "EarlyStopping counter: 1 out of 5\n",
            "[Epoch 10, Accuracy: 0.8575\n",
            "[Merged Array] Epoch 11, Training Loss: 0.373049291074276\n",
            "[Merged Array] Epoch 11, Validation Loss: 0.42353799700737\n",
            "EarlyStopping counter: 2 out of 5\n",
            "[Epoch 11, Accuracy: 0.8485\n",
            "[Merged Array] Epoch 12, Training Loss: 0.36096650287508963\n",
            "[Merged Array] Epoch 12, Validation Loss: 0.4091266971826553\n",
            "EarlyStopping counter: 3 out of 5\n",
            "[Epoch 12, Accuracy: 0.859\n",
            "[Merged Array] Epoch 13, Training Loss: 0.37423873245716094\n",
            "[Merged Array] Epoch 13, Validation Loss: 0.3785320824384689\n",
            "[Epoch 13, Accuracy: 0.8675\n",
            "[Merged Array] Epoch 14, Training Loss: 0.3496002925932407\n",
            "[Merged Array] Epoch 14, Validation Loss: 0.3786647355556488\n",
            "EarlyStopping counter: 1 out of 5\n",
            "[Epoch 14, Accuracy: 0.871\n",
            "[Merged Array] Epoch 15, Training Loss: 0.3483811205625534\n",
            "[Merged Array] Epoch 15, Validation Loss: 0.3811142361164093\n",
            "EarlyStopping counter: 2 out of 5\n",
            "[Epoch 15, Accuracy: 0.87\n",
            "[Merged Array] Epoch 16, Training Loss: 0.3495680795609951\n",
            "[Merged Array] Epoch 16, Validation Loss: 0.379962038397789\n",
            "EarlyStopping counter: 3 out of 5\n",
            "[Epoch 16, Accuracy: 0.8755\n",
            "[Merged Array] Epoch 17, Training Loss: 0.33819794073700904\n",
            "[Merged Array] Epoch 17, Validation Loss: 0.3789681112766266\n",
            "EarlyStopping counter: 4 out of 5\n",
            "[Epoch 17, Accuracy: 0.8665\n",
            "[Merged Array] Epoch 18, Training Loss: 0.33714985206723214\n",
            "[Merged Array] Epoch 18, Validation Loss: 0.36807643234729764\n",
            "[Epoch 18, Accuracy: 0.876\n",
            "[Merged Array] Epoch 19, Training Loss: 0.3299278323352337\n",
            "[Merged Array] Epoch 19, Validation Loss: 0.3647528064250946\n",
            "[Epoch 19, Accuracy: 0.8725\n",
            "[Merged Array] Epoch 20, Training Loss: 0.334457675665617\n",
            "[Merged Array] Epoch 20, Validation Loss: 0.3758591604232788\n",
            "EarlyStopping counter: 1 out of 5\n",
            "[Epoch 20, Accuracy: 0.863\n",
            "[Merged Array] Epoch 21, Training Loss: 0.3290013405680656\n",
            "[Merged Array] Epoch 21, Validation Loss: 0.36416921973228455\n",
            "[Epoch 21, Accuracy: 0.87\n",
            "[Merged Array] Epoch 22, Training Loss: 0.3213170211017132\n",
            "[Merged Array] Epoch 22, Validation Loss: 0.3566921383142471\n",
            "[Epoch 22, Accuracy: 0.8795\n",
            "[Merged Array] Epoch 23, Training Loss: 0.32170501857995987\n",
            "[Merged Array] Epoch 23, Validation Loss: 0.37876712560653686\n",
            "EarlyStopping counter: 1 out of 5\n",
            "[Epoch 23, Accuracy: 0.872\n",
            "[Merged Array] Epoch 24, Training Loss: 0.3182632561028004\n",
            "[Merged Array] Epoch 24, Validation Loss: 0.3929388082027435\n",
            "EarlyStopping counter: 2 out of 5\n",
            "[Epoch 24, Accuracy: 0.8685\n",
            "[Merged Array] Epoch 25, Training Loss: 0.3094055883586407\n",
            "[Merged Array] Epoch 25, Validation Loss: 0.3641216468811035\n",
            "EarlyStopping counter: 3 out of 5\n",
            "[Epoch 25, Accuracy: 0.877\n",
            "[Merged Array] Epoch 26, Training Loss: 0.3085220032930374\n",
            "[Merged Array] Epoch 26, Validation Loss: 0.3552861666679382\n",
            "[Epoch 26, Accuracy: 0.8795\n",
            "[Merged Array] Epoch 27, Training Loss: 0.3133429551124573\n",
            "[Merged Array] Epoch 27, Validation Loss: 0.35237846374511717\n",
            "[Epoch 27, Accuracy: 0.88\n",
            "[Merged Array] Epoch 28, Training Loss: 0.3014865064620972\n",
            "[Merged Array] Epoch 28, Validation Loss: 0.3493444836139679\n",
            "[Epoch 28, Accuracy: 0.876\n",
            "[Merged Array] Epoch 29, Training Loss: 0.2974845324456692\n",
            "[Merged Array] Epoch 29, Validation Loss: 0.3692386621236801\n",
            "EarlyStopping counter: 1 out of 5\n",
            "[Epoch 29, Accuracy: 0.874\n",
            "[Merged Array] Epoch 30, Training Loss: 0.29981262490153315\n",
            "[Merged Array] Epoch 30, Validation Loss: 0.351010325551033\n",
            "EarlyStopping counter: 2 out of 5\n",
            "[Epoch 30, Accuracy: 0.882\n"
          ]
        }
      ]
    },
    {
      "cell_type": "code",
      "source": [
        "# Draw losses of all features in one graph\n",
        "plt.figure(figsize=(12, 6))\n",
        "plt.subplot(1, 2, 1)\n",
        "for feature_name, losses in loss_results.items():\n",
        "    plt.plot(losses, label=feature_name)\n",
        "plt.title('Model Loss Over Epochs')\n",
        "plt.xlabel('Epoch')\n",
        "plt.ylabel('Loss')\n",
        "plt.legend()\n",
        "\n",
        "# Draw accuracies of all features in one graph\n",
        "plt.subplot(1, 2, 2)\n",
        "for feature_name, accuracies in accuracy_results.items():\n",
        "    plt.plot(accuracies, label=feature_name)\n",
        "plt.title('Model Accuracy Over Epochs')\n",
        "plt.xlabel('Epoch')\n",
        "plt.ylabel('Accuracy')\n",
        "plt.legend()\n",
        "\n",
        "plt.show()"
      ],
      "metadata": {
        "id": "e-KeDpuhhiz0",
        "outputId": "0e662262-8cad-49b2-88c0-397a79b9e276",
        "colab": {
          "base_uri": "https://localhost:8080/",
          "height": 564
        }
      },
      "execution_count": null,
      "outputs": [
        {
          "output_type": "display_data",
          "data": {
            "text/plain": [
              "<Figure size 1200x600 with 2 Axes>"
            ],
            "image/png": "[encoded data removed]"
          },
          "metadata": {}
        }
      ]
    }
  ]
}